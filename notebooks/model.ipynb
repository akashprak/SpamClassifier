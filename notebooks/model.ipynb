{
 "cells": [
  {
   "cell_type": "code",
   "execution_count": 1,
   "metadata": {},
   "outputs": [],
   "source": [
    "import pandas as pd\n",
    "import re"
   ]
  },
  {
   "cell_type": "code",
   "execution_count": 2,
   "metadata": {},
   "outputs": [],
   "source": [
    "df = pd.read_csv('../data/SMSSpamCollection.csv', sep='\\t',header=None,names=['label', 'message'])"
   ]
  },
  {
   "cell_type": "code",
   "execution_count": 3,
   "metadata": {},
   "outputs": [
    {
     "data": {
      "text/html": [
       "<div>\n",
       "<style scoped>\n",
       "    .dataframe tbody tr th:only-of-type {\n",
       "        vertical-align: middle;\n",
       "    }\n",
       "\n",
       "    .dataframe tbody tr th {\n",
       "        vertical-align: top;\n",
       "    }\n",
       "\n",
       "    .dataframe thead th {\n",
       "        text-align: right;\n",
       "    }\n",
       "</style>\n",
       "<table border=\"1\" class=\"dataframe\">\n",
       "  <thead>\n",
       "    <tr style=\"text-align: right;\">\n",
       "      <th></th>\n",
       "      <th>label</th>\n",
       "      <th>message</th>\n",
       "    </tr>\n",
       "  </thead>\n",
       "  <tbody>\n",
       "    <tr>\n",
       "      <th>0</th>\n",
       "      <td>ham</td>\n",
       "      <td>Go until jurong point, crazy.. Available only ...</td>\n",
       "    </tr>\n",
       "    <tr>\n",
       "      <th>1</th>\n",
       "      <td>ham</td>\n",
       "      <td>Ok lar... Joking wif u oni...</td>\n",
       "    </tr>\n",
       "    <tr>\n",
       "      <th>2</th>\n",
       "      <td>spam</td>\n",
       "      <td>Free entry in 2 a wkly comp to win FA Cup fina...</td>\n",
       "    </tr>\n",
       "    <tr>\n",
       "      <th>3</th>\n",
       "      <td>ham</td>\n",
       "      <td>U dun say so early hor... U c already then say...</td>\n",
       "    </tr>\n",
       "    <tr>\n",
       "      <th>4</th>\n",
       "      <td>ham</td>\n",
       "      <td>Nah I don't think he goes to usf, he lives aro...</td>\n",
       "    </tr>\n",
       "  </tbody>\n",
       "</table>\n",
       "</div>"
      ],
      "text/plain": [
       "  label                                            message\n",
       "0   ham  Go until jurong point, crazy.. Available only ...\n",
       "1   ham                      Ok lar... Joking wif u oni...\n",
       "2  spam  Free entry in 2 a wkly comp to win FA Cup fina...\n",
       "3   ham  U dun say so early hor... U c already then say...\n",
       "4   ham  Nah I don't think he goes to usf, he lives aro..."
      ]
     },
     "execution_count": 3,
     "metadata": {},
     "output_type": "execute_result"
    }
   ],
   "source": [
    "df.head()"
   ]
  },
  {
   "cell_type": "code",
   "execution_count": 4,
   "metadata": {},
   "outputs": [
    {
     "name": "stdout",
     "output_type": "stream",
     "text": [
      "<class 'pandas.core.frame.DataFrame'>\n",
      "RangeIndex: 5572 entries, 0 to 5571\n",
      "Data columns (total 2 columns):\n",
      " #   Column   Non-Null Count  Dtype \n",
      "---  ------   --------------  ----- \n",
      " 0   label    5572 non-null   object\n",
      " 1   message  5572 non-null   object\n",
      "dtypes: object(2)\n",
      "memory usage: 87.2+ KB\n"
     ]
    }
   ],
   "source": [
    "df.info()"
   ]
  },
  {
   "cell_type": "code",
   "execution_count": 5,
   "metadata": {},
   "outputs": [
    {
     "data": {
      "text/plain": [
       "array(['ham', 'spam'], dtype=object)"
      ]
     },
     "execution_count": 5,
     "metadata": {},
     "output_type": "execute_result"
    }
   ],
   "source": [
    "df['label'].unique()"
   ]
  },
  {
   "cell_type": "markdown",
   "metadata": {},
   "source": [
    "'label' is the target column which is classified as:\n",
    "- 'ham' for non spam messages\n",
    "- and 'spam'"
   ]
  },
  {
   "cell_type": "code",
   "execution_count": 6,
   "metadata": {},
   "outputs": [
    {
     "data": {
      "text/html": [
       "<div>\n",
       "<style scoped>\n",
       "    .dataframe tbody tr th:only-of-type {\n",
       "        vertical-align: middle;\n",
       "    }\n",
       "\n",
       "    .dataframe tbody tr th {\n",
       "        vertical-align: top;\n",
       "    }\n",
       "\n",
       "    .dataframe thead th {\n",
       "        text-align: right;\n",
       "    }\n",
       "</style>\n",
       "<table border=\"1\" class=\"dataframe\">\n",
       "  <thead>\n",
       "    <tr style=\"text-align: right;\">\n",
       "      <th></th>\n",
       "      <th>label</th>\n",
       "      <th>message</th>\n",
       "    </tr>\n",
       "  </thead>\n",
       "  <tbody>\n",
       "    <tr>\n",
       "      <th>103</th>\n",
       "      <td>ham</td>\n",
       "      <td>As per your request 'Melle Melle (Oru Minnamin...</td>\n",
       "    </tr>\n",
       "    <tr>\n",
       "      <th>154</th>\n",
       "      <td>ham</td>\n",
       "      <td>As per your request 'Melle Melle (Oru Minnamin...</td>\n",
       "    </tr>\n",
       "    <tr>\n",
       "      <th>207</th>\n",
       "      <td>ham</td>\n",
       "      <td>As I entered my cabin my PA said, '' Happy B'd...</td>\n",
       "    </tr>\n",
       "    <tr>\n",
       "      <th>223</th>\n",
       "      <td>ham</td>\n",
       "      <td>Sorry, I'll call later</td>\n",
       "    </tr>\n",
       "    <tr>\n",
       "      <th>326</th>\n",
       "      <td>ham</td>\n",
       "      <td>No calls..messages..missed calls</td>\n",
       "    </tr>\n",
       "    <tr>\n",
       "      <th>...</th>\n",
       "      <td>...</td>\n",
       "      <td>...</td>\n",
       "    </tr>\n",
       "    <tr>\n",
       "      <th>5524</th>\n",
       "      <td>spam</td>\n",
       "      <td>You are awarded a SiPix Digital Camera! call 0...</td>\n",
       "    </tr>\n",
       "    <tr>\n",
       "      <th>5535</th>\n",
       "      <td>ham</td>\n",
       "      <td>I know you are thinkin malaria. But relax, chi...</td>\n",
       "    </tr>\n",
       "    <tr>\n",
       "      <th>5539</th>\n",
       "      <td>ham</td>\n",
       "      <td>Just sleeping..and surfing</td>\n",
       "    </tr>\n",
       "    <tr>\n",
       "      <th>5553</th>\n",
       "      <td>ham</td>\n",
       "      <td>Hahaha..use your brain dear</td>\n",
       "    </tr>\n",
       "    <tr>\n",
       "      <th>5558</th>\n",
       "      <td>ham</td>\n",
       "      <td>Sorry, I'll call later</td>\n",
       "    </tr>\n",
       "  </tbody>\n",
       "</table>\n",
       "<p>403 rows × 2 columns</p>\n",
       "</div>"
      ],
      "text/plain": [
       "     label                                            message\n",
       "103    ham  As per your request 'Melle Melle (Oru Minnamin...\n",
       "154    ham  As per your request 'Melle Melle (Oru Minnamin...\n",
       "207    ham  As I entered my cabin my PA said, '' Happy B'd...\n",
       "223    ham                             Sorry, I'll call later\n",
       "326    ham                   No calls..messages..missed calls\n",
       "...    ...                                                ...\n",
       "5524  spam  You are awarded a SiPix Digital Camera! call 0...\n",
       "5535   ham  I know you are thinkin malaria. But relax, chi...\n",
       "5539   ham                         Just sleeping..and surfing\n",
       "5553   ham                        Hahaha..use your brain dear\n",
       "5558   ham                             Sorry, I'll call later\n",
       "\n",
       "[403 rows x 2 columns]"
      ]
     },
     "execution_count": 6,
     "metadata": {},
     "output_type": "execute_result"
    }
   ],
   "source": [
    "df[df.duplicated()]"
   ]
  },
  {
   "cell_type": "markdown",
   "metadata": {},
   "source": [
    "There are duplicated records which can be dropped"
   ]
  },
  {
   "cell_type": "code",
   "execution_count": 7,
   "metadata": {},
   "outputs": [
    {
     "data": {
      "text/plain": [
       "(5169, 2)"
      ]
     },
     "execution_count": 7,
     "metadata": {},
     "output_type": "execute_result"
    }
   ],
   "source": [
    "df.drop_duplicates(inplace=True)\n",
    "df=df.reset_index(drop=True)\n",
    "df.shape"
   ]
  },
  {
   "cell_type": "code",
   "execution_count": 8,
   "metadata": {},
   "outputs": [
    {
     "data": {
      "text/html": [
       "<div>\n",
       "<style scoped>\n",
       "    .dataframe tbody tr th:only-of-type {\n",
       "        vertical-align: middle;\n",
       "    }\n",
       "\n",
       "    .dataframe tbody tr th {\n",
       "        vertical-align: top;\n",
       "    }\n",
       "\n",
       "    .dataframe thead th {\n",
       "        text-align: right;\n",
       "    }\n",
       "</style>\n",
       "<table border=\"1\" class=\"dataframe\">\n",
       "  <thead>\n",
       "    <tr style=\"text-align: right;\">\n",
       "      <th></th>\n",
       "      <th>label</th>\n",
       "      <th>message</th>\n",
       "    </tr>\n",
       "  </thead>\n",
       "  <tbody>\n",
       "    <tr>\n",
       "      <th>0</th>\n",
       "      <td>ham</td>\n",
       "      <td>Go until jurong point, crazy.. Available only ...</td>\n",
       "    </tr>\n",
       "    <tr>\n",
       "      <th>1</th>\n",
       "      <td>ham</td>\n",
       "      <td>Ok lar... Joking wif u oni...</td>\n",
       "    </tr>\n",
       "    <tr>\n",
       "      <th>2</th>\n",
       "      <td>spam</td>\n",
       "      <td>Free entry in 2 a wkly comp to win FA Cup fina...</td>\n",
       "    </tr>\n",
       "    <tr>\n",
       "      <th>3</th>\n",
       "      <td>ham</td>\n",
       "      <td>U dun say so early hor... U c already then say...</td>\n",
       "    </tr>\n",
       "    <tr>\n",
       "      <th>4</th>\n",
       "      <td>ham</td>\n",
       "      <td>Nah I don't think he goes to usf, he lives aro...</td>\n",
       "    </tr>\n",
       "  </tbody>\n",
       "</table>\n",
       "</div>"
      ],
      "text/plain": [
       "  label                                            message\n",
       "0   ham  Go until jurong point, crazy.. Available only ...\n",
       "1   ham                      Ok lar... Joking wif u oni...\n",
       "2  spam  Free entry in 2 a wkly comp to win FA Cup fina...\n",
       "3   ham  U dun say so early hor... U c already then say...\n",
       "4   ham  Nah I don't think he goes to usf, he lives aro..."
      ]
     },
     "execution_count": 8,
     "metadata": {},
     "output_type": "execute_result"
    }
   ],
   "source": [
    "df.head()"
   ]
  },
  {
   "cell_type": "code",
   "execution_count": 9,
   "metadata": {},
   "outputs": [
    {
     "data": {
      "text/plain": [
       "label\n",
       "ham     4516\n",
       "spam     653\n",
       "Name: count, dtype: int64"
      ]
     },
     "execution_count": 9,
     "metadata": {},
     "output_type": "execute_result"
    }
   ],
   "source": [
    "df['label'].value_counts()"
   ]
  },
  {
   "cell_type": "code",
   "execution_count": 10,
   "metadata": {},
   "outputs": [],
   "source": [
    "from nltk.tokenize import word_tokenize\n",
    "from nltk.stem import WordNetLemmatizer\n",
    "from nltk.corpus import stopwords"
   ]
  },
  {
   "cell_type": "code",
   "execution_count": 11,
   "metadata": {},
   "outputs": [],
   "source": [
    "lemmatizer=WordNetLemmatizer()\n",
    "\n",
    "corpus=[]\n",
    "for i in range(len(df)):\n",
    "    tokens=re.sub(r'[^a-zA-Z]',' ',df['message'][i]).lower()\n",
    "    tokens=word_tokenize(tokens)\n",
    "    tokens=[lemmatizer.lemmatize(word) for word in tokens if word not in stopwords.words('english')]\n",
    "    tokens=' '.join(tokens)\n",
    "    corpus.append(tokens)"
   ]
  },
  {
   "cell_type": "code",
   "execution_count": 12,
   "metadata": {},
   "outputs": [
    {
     "name": "stdout",
     "output_type": "stream",
     "text": [
      "original message :  Please don't text me anymore. I have nothing else to say.\n",
      "lemmatized message :  please text anymore nothing else say\n"
     ]
    }
   ],
   "source": [
    "print('original message : ',df['message'][100])\n",
    "print('lemmatized message : ',corpus[100])"
   ]
  },
  {
   "cell_type": "code",
   "execution_count": 29,
   "metadata": {},
   "outputs": [],
   "source": [
    "target = df['label']"
   ]
  },
  {
   "cell_type": "code",
   "execution_count": 36,
   "metadata": {},
   "outputs": [],
   "source": [
    "from sklearn.feature_extraction.text import TfidfVectorizer,CountVectorizer\n",
    "from sklearn.model_selection import train_test_split\n",
    "from sklearn.naive_bayes import MultinomialNB\n",
    "from sklearn.metrics import accuracy_score\n",
    "import optuna\n",
    "from optuna import Trial"
   ]
  },
  {
   "cell_type": "code",
   "execution_count": 33,
   "metadata": {},
   "outputs": [],
   "source": [
    "def objective(trial:Trial, data=corpus, target=target):\n",
    "    vectorizer=trial.suggest_categorical('vectorizer',['Count','Tfidf'])\n",
    "    max_features=trial.suggest_categorical('max_features',[2500,3000,5000,7000,10000])\n",
    "    \n",
    "    if vectorizer=='Count':\n",
    "        vec=CountVectorizer(max_features=max_features)\n",
    "    else:\n",
    "        vec=TfidfVectorizer(max_features=max_features)\n",
    "    \n",
    "    X=vec.fit_transform(data).toarray()\n",
    "    X_train,X_test,y_train,y_test=train_test_split(X,target,test_size=0.25,random_state=20)\n",
    "    model=MultinomialNB()\n",
    "    model.fit(X_train,y_train)\n",
    "    y_pred=model.predict(X_test)\n",
    "    score=accuracy_score(y_test,y_pred)\n",
    "    return score"
   ]
  },
  {
   "cell_type": "code",
   "execution_count": 35,
   "metadata": {},
   "outputs": [
    {
     "name": "stderr",
     "output_type": "stream",
     "text": [
      "[I 2024-01-15 16:43:22,405] A new study created in memory with name: no-name-e6a4f97b-a12f-4f70-a06e-582191127a58\n"
     ]
    },
    {
     "name": "stderr",
     "output_type": "stream",
     "text": [
      "[I 2024-01-15 16:43:22,726] Trial 0 finished with value: 0.9814385150812065 and parameters: {'vectorizer': 'Count', 'max_features': 2500}. Best is trial 0 with value: 0.9814385150812065.\n",
      "[I 2024-01-15 16:43:23,195] Trial 1 finished with value: 0.9582366589327146 and parameters: {'vectorizer': 'Tfidf', 'max_features': 10000}. Best is trial 0 with value: 0.9814385150812065.\n",
      "[I 2024-01-15 16:43:23,687] Trial 2 finished with value: 0.9582366589327146 and parameters: {'vectorizer': 'Tfidf', 'max_features': 10000}. Best is trial 0 with value: 0.9814385150812065.\n",
      "[I 2024-01-15 16:43:24,319] Trial 3 finished with value: 0.9783449342614076 and parameters: {'vectorizer': 'Count', 'max_features': 5000}. Best is trial 0 with value: 0.9814385150812065.\n",
      "[I 2024-01-15 16:43:24,660] Trial 4 finished with value: 0.9651972157772621 and parameters: {'vectorizer': 'Tfidf', 'max_features': 5000}. Best is trial 0 with value: 0.9814385150812065.\n",
      "[I 2024-01-15 16:43:24,876] Trial 5 finished with value: 0.9729311678267595 and parameters: {'vectorizer': 'Tfidf', 'max_features': 2500}. Best is trial 0 with value: 0.9814385150812065.\n",
      "[I 2024-01-15 16:43:25,195] Trial 6 finished with value: 0.9814385150812065 and parameters: {'vectorizer': 'Count', 'max_features': 2500}. Best is trial 0 with value: 0.9814385150812065.\n",
      "[I 2024-01-15 16:43:25,432] Trial 7 finished with value: 0.9729311678267595 and parameters: {'vectorizer': 'Tfidf', 'max_features': 2500}. Best is trial 0 with value: 0.9814385150812065.\n",
      "[I 2024-01-15 16:43:26,304] Trial 8 finished with value: 0.9752513534416086 and parameters: {'vectorizer': 'Count', 'max_features': 10000}. Best is trial 0 with value: 0.9814385150812065.\n",
      "[I 2024-01-15 16:43:26,920] Trial 9 finished with value: 0.9783449342614076 and parameters: {'vectorizer': 'Count', 'max_features': 5000}. Best is trial 0 with value: 0.9814385150812065.\n",
      "[I 2024-01-15 16:43:27,322] Trial 10 finished with value: 0.9822119102861562 and parameters: {'vectorizer': 'Count', 'max_features': 3000}. Best is trial 10 with value: 0.9822119102861562.\n",
      "[I 2024-01-15 16:43:27,719] Trial 11 finished with value: 0.9822119102861562 and parameters: {'vectorizer': 'Count', 'max_features': 3000}. Best is trial 10 with value: 0.9822119102861562.\n",
      "[I 2024-01-15 16:43:28,128] Trial 12 finished with value: 0.9822119102861562 and parameters: {'vectorizer': 'Count', 'max_features': 3000}. Best is trial 10 with value: 0.9822119102861562.\n",
      "[I 2024-01-15 16:43:28,536] Trial 13 finished with value: 0.9822119102861562 and parameters: {'vectorizer': 'Count', 'max_features': 3000}. Best is trial 10 with value: 0.9822119102861562.\n",
      "[I 2024-01-15 16:43:29,385] Trial 14 finished with value: 0.9760247486465584 and parameters: {'vectorizer': 'Count', 'max_features': 7000}. Best is trial 10 with value: 0.9822119102861562.\n",
      "[I 2024-01-15 16:43:29,801] Trial 15 finished with value: 0.9822119102861562 and parameters: {'vectorizer': 'Count', 'max_features': 3000}. Best is trial 10 with value: 0.9822119102861562.\n",
      "[I 2024-01-15 16:43:30,186] Trial 16 finished with value: 0.9822119102861562 and parameters: {'vectorizer': 'Count', 'max_features': 3000}. Best is trial 10 with value: 0.9822119102861562.\n",
      "[I 2024-01-15 16:43:30,595] Trial 17 finished with value: 0.9822119102861562 and parameters: {'vectorizer': 'Count', 'max_features': 3000}. Best is trial 10 with value: 0.9822119102861562.\n",
      "[I 2024-01-15 16:43:31,420] Trial 18 finished with value: 0.9760247486465584 and parameters: {'vectorizer': 'Count', 'max_features': 7000}. Best is trial 10 with value: 0.9822119102861562.\n",
      "[I 2024-01-15 16:43:31,838] Trial 19 finished with value: 0.9822119102861562 and parameters: {'vectorizer': 'Count', 'max_features': 3000}. Best is trial 10 with value: 0.9822119102861562.\n",
      "[I 2024-01-15 16:43:32,230] Trial 20 finished with value: 0.9822119102861562 and parameters: {'vectorizer': 'Count', 'max_features': 3000}. Best is trial 10 with value: 0.9822119102861562.\n",
      "[I 2024-01-15 16:43:32,641] Trial 21 finished with value: 0.9822119102861562 and parameters: {'vectorizer': 'Count', 'max_features': 3000}. Best is trial 10 with value: 0.9822119102861562.\n",
      "[I 2024-01-15 16:43:33,002] Trial 22 finished with value: 0.9822119102861562 and parameters: {'vectorizer': 'Count', 'max_features': 3000}. Best is trial 10 with value: 0.9822119102861562.\n",
      "[I 2024-01-15 16:43:33,343] Trial 23 finished with value: 0.9822119102861562 and parameters: {'vectorizer': 'Count', 'max_features': 3000}. Best is trial 10 with value: 0.9822119102861562.\n",
      "[I 2024-01-15 16:43:33,710] Trial 24 finished with value: 0.9822119102861562 and parameters: {'vectorizer': 'Count', 'max_features': 3000}. Best is trial 10 with value: 0.9822119102861562.\n",
      "[I 2024-01-15 16:43:34,462] Trial 25 finished with value: 0.9760247486465584 and parameters: {'vectorizer': 'Count', 'max_features': 7000}. Best is trial 10 with value: 0.9822119102861562.\n",
      "[I 2024-01-15 16:43:34,687] Trial 26 finished with value: 0.9729311678267595 and parameters: {'vectorizer': 'Tfidf', 'max_features': 3000}. Best is trial 10 with value: 0.9822119102861562.\n",
      "[I 2024-01-15 16:43:35,043] Trial 27 finished with value: 0.9822119102861562 and parameters: {'vectorizer': 'Count', 'max_features': 3000}. Best is trial 10 with value: 0.9822119102861562.\n",
      "[I 2024-01-15 16:43:35,402] Trial 28 finished with value: 0.9822119102861562 and parameters: {'vectorizer': 'Count', 'max_features': 3000}. Best is trial 10 with value: 0.9822119102861562.\n",
      "[I 2024-01-15 16:43:35,753] Trial 29 finished with value: 0.9822119102861562 and parameters: {'vectorizer': 'Count', 'max_features': 3000}. Best is trial 10 with value: 0.9822119102861562.\n"
     ]
    },
    {
     "data": {
      "text/plain": [
       "{'vectorizer': 'Count', 'max_features': 3000}"
      ]
     },
     "execution_count": 35,
     "metadata": {},
     "output_type": "execute_result"
    }
   ],
   "source": [
    "study=optuna.create_study(direction='maximize')\n",
    "study.optimize(objective,n_trials=30)\n",
    "study.best_trial.params"
   ]
  },
  {
   "cell_type": "markdown",
   "metadata": {},
   "source": [
    "using CountVectorizer to train the model"
   ]
  },
  {
   "cell_type": "code",
   "execution_count": 37,
   "metadata": {},
   "outputs": [
    {
     "name": "stdout",
     "output_type": "stream",
     "text": [
      "training accuracy:  0.9871001031991744\n",
      "testing accuracy:  0.982985305491106\n"
     ]
    }
   ],
   "source": [
    "cv=CountVectorizer(max_features=3000)\n",
    "X=cv.fit_transform(corpus).toarray()\n",
    "y=target\n",
    "X_train,X_test,y_train,y_test=train_test_split(X,y,test_size=0.25)\n",
    "\n",
    "model=MultinomialNB()\n",
    "model.fit(X_train,y_train)\n",
    "\n",
    "print('training accuracy: ',model.score(X_train,y_train))\n",
    "y_pred=model.predict(X_test)\n",
    "print('testing accuracy: ',accuracy_score(y_test,y_pred))"
   ]
  },
  {
   "cell_type": "code",
   "execution_count": 142,
   "metadata": {},
   "outputs": [
    {
     "data": {
      "text/html": [
       "<div>\n",
       "<style scoped>\n",
       "    .dataframe tbody tr th:only-of-type {\n",
       "        vertical-align: middle;\n",
       "    }\n",
       "\n",
       "    .dataframe tbody tr th {\n",
       "        vertical-align: top;\n",
       "    }\n",
       "\n",
       "    .dataframe thead th {\n",
       "        text-align: right;\n",
       "    }\n",
       "</style>\n",
       "<table border=\"1\" class=\"dataframe\">\n",
       "  <thead>\n",
       "    <tr style=\"text-align: right;\">\n",
       "      <th></th>\n",
       "      <th>label</th>\n",
       "      <th>message</th>\n",
       "    </tr>\n",
       "  </thead>\n",
       "  <tbody>\n",
       "    <tr>\n",
       "      <th>5164</th>\n",
       "      <td>spam</td>\n",
       "      <td>This is the 2nd time we have tried 2 contact u...</td>\n",
       "    </tr>\n",
       "    <tr>\n",
       "      <th>5165</th>\n",
       "      <td>ham</td>\n",
       "      <td>Will ü b going to esplanade fr home?</td>\n",
       "    </tr>\n",
       "    <tr>\n",
       "      <th>5166</th>\n",
       "      <td>ham</td>\n",
       "      <td>Pity, * was in mood for that. So...any other s...</td>\n",
       "    </tr>\n",
       "    <tr>\n",
       "      <th>5167</th>\n",
       "      <td>ham</td>\n",
       "      <td>The guy did some bitching but I acted like i'd...</td>\n",
       "    </tr>\n",
       "    <tr>\n",
       "      <th>5168</th>\n",
       "      <td>ham</td>\n",
       "      <td>Rofl. Its true to its name</td>\n",
       "    </tr>\n",
       "  </tbody>\n",
       "</table>\n",
       "</div>"
      ],
      "text/plain": [
       "     label                                            message\n",
       "5164  spam  This is the 2nd time we have tried 2 contact u...\n",
       "5165   ham               Will ü b going to esplanade fr home?\n",
       "5166   ham  Pity, * was in mood for that. So...any other s...\n",
       "5167   ham  The guy did some bitching but I acted like i'd...\n",
       "5168   ham                         Rofl. Its true to its name"
      ]
     },
     "execution_count": 142,
     "metadata": {},
     "output_type": "execute_result"
    }
   ],
   "source": [
    "df.tail()"
   ]
  },
  {
   "cell_type": "markdown",
   "metadata": {},
   "source": [
    "choosing a spam message and predicting using the trained model"
   ]
  },
  {
   "cell_type": "code",
   "execution_count": 38,
   "metadata": {},
   "outputs": [
    {
     "data": {
      "text/plain": [
       "'This is the 2nd time we have tried 2 contact u. U have won the £750 Pound prize. 2 claim is easy, call 087187272008 NOW1! Only 10p per minute. BT-national-rate.'"
      ]
     },
     "execution_count": 38,
     "metadata": {},
     "output_type": "execute_result"
    }
   ],
   "source": [
    "# the message is a spam\n",
    "df['message'][5164]"
   ]
  },
  {
   "cell_type": "code",
   "execution_count": 39,
   "metadata": {},
   "outputs": [],
   "source": [
    "msg=df['message'][5164]"
   ]
  },
  {
   "cell_type": "code",
   "execution_count": 40,
   "metadata": {},
   "outputs": [
    {
     "name": "stdout",
     "output_type": "stream",
     "text": [
      "['spam']\n"
     ]
    }
   ],
   "source": [
    "data=cv.transform([msg]).toarray()\n",
    "print(model.predict(data))"
   ]
  }
 ],
 "metadata": {
  "kernelspec": {
   "display_name": "pyeleven",
   "language": "python",
   "name": "python3"
  },
  "language_info": {
   "codemirror_mode": {
    "name": "ipython",
    "version": 3
   },
   "file_extension": ".py",
   "mimetype": "text/x-python",
   "name": "python",
   "nbconvert_exporter": "python",
   "pygments_lexer": "ipython3",
   "version": "3.11.5"
  }
 },
 "nbformat": 4,
 "nbformat_minor": 2
}
